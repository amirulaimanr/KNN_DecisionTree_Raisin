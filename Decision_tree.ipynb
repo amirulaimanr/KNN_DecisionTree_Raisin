{
 "cells": [
  {
   "cell_type": "markdown",
   "id": "45f1f1e9",
   "metadata": {},
   "source": [
    "# 1 import packages"
   ]
  },
  {
   "cell_type": "code",
   "execution_count": 487,
   "id": "751da9e2",
   "metadata": {},
   "outputs": [],
   "source": [
    "# to bring the NumPy library into current environment. \n",
    "# this allows to use NumPy functions\n",
    "import numpy as np\n",
    "\n",
    "# to bring the pandas functionality into current environment. \n",
    "import pandas as pd\n",
    "\n",
    "# allows users to create numerous and diverse plot types\n",
    "import matplotlib.pyplot as plt\n",
    "\n",
    "# model selection for splitting data arrays into two subsets\n",
    "from sklearn.model_selection import train_test_split\n",
    "\n",
    "# to measure classification performance\n",
    "from sklearn import metrics\n",
    "\n",
    "# used for evaluating the performance of a classification model\n",
    "from sklearn.metrics import classification_report, confusion_matrix"
   ]
  },
  {
   "cell_type": "markdown",
   "id": "b5dceb6d",
   "metadata": {},
   "source": [
    "# 2 Import dataset"
   ]
  },
  {
   "cell_type": "code",
   "execution_count": 488,
   "id": "cce92119",
   "metadata": {},
   "outputs": [
    {
     "data": {
      "text/html": [
       "<div>\n",
       "<style scoped>\n",
       "    .dataframe tbody tr th:only-of-type {\n",
       "        vertical-align: middle;\n",
       "    }\n",
       "\n",
       "    .dataframe tbody tr th {\n",
       "        vertical-align: top;\n",
       "    }\n",
       "\n",
       "    .dataframe thead th {\n",
       "        text-align: right;\n",
       "    }\n",
       "</style>\n",
       "<table border=\"1\" class=\"dataframe\">\n",
       "  <thead>\n",
       "    <tr style=\"text-align: right;\">\n",
       "      <th></th>\n",
       "      <th>Area</th>\n",
       "      <th>MajorAxisLength</th>\n",
       "      <th>MinorAxisLength</th>\n",
       "      <th>Eccentricity</th>\n",
       "      <th>ConvexArea</th>\n",
       "      <th>Extent</th>\n",
       "      <th>Perimeter</th>\n",
       "      <th>Class</th>\n",
       "    </tr>\n",
       "  </thead>\n",
       "  <tbody>\n",
       "    <tr>\n",
       "      <th>0</th>\n",
       "      <td>87524</td>\n",
       "      <td>442.246011</td>\n",
       "      <td>253.291155</td>\n",
       "      <td>0.819738</td>\n",
       "      <td>90546</td>\n",
       "      <td>0.758651</td>\n",
       "      <td>1184.040</td>\n",
       "      <td>Kecimen</td>\n",
       "    </tr>\n",
       "    <tr>\n",
       "      <th>1</th>\n",
       "      <td>75166</td>\n",
       "      <td>406.690687</td>\n",
       "      <td>243.032436</td>\n",
       "      <td>0.801805</td>\n",
       "      <td>78789</td>\n",
       "      <td>0.684130</td>\n",
       "      <td>1121.786</td>\n",
       "      <td>Kecimen</td>\n",
       "    </tr>\n",
       "    <tr>\n",
       "      <th>2</th>\n",
       "      <td>90856</td>\n",
       "      <td>442.267048</td>\n",
       "      <td>266.328318</td>\n",
       "      <td>0.798354</td>\n",
       "      <td>93717</td>\n",
       "      <td>0.637613</td>\n",
       "      <td>1208.575</td>\n",
       "      <td>Kecimen</td>\n",
       "    </tr>\n",
       "    <tr>\n",
       "      <th>3</th>\n",
       "      <td>45928</td>\n",
       "      <td>286.540559</td>\n",
       "      <td>208.760042</td>\n",
       "      <td>0.684989</td>\n",
       "      <td>47336</td>\n",
       "      <td>0.699599</td>\n",
       "      <td>844.162</td>\n",
       "      <td>Kecimen</td>\n",
       "    </tr>\n",
       "    <tr>\n",
       "      <th>4</th>\n",
       "      <td>79408</td>\n",
       "      <td>352.190770</td>\n",
       "      <td>290.827533</td>\n",
       "      <td>0.564011</td>\n",
       "      <td>81463</td>\n",
       "      <td>0.792772</td>\n",
       "      <td>1073.251</td>\n",
       "      <td>Kecimen</td>\n",
       "    </tr>\n",
       "  </tbody>\n",
       "</table>\n",
       "</div>"
      ],
      "text/plain": [
       "    Area  MajorAxisLength  MinorAxisLength  Eccentricity  ConvexArea  \\\n",
       "0  87524       442.246011       253.291155      0.819738       90546   \n",
       "1  75166       406.690687       243.032436      0.801805       78789   \n",
       "2  90856       442.267048       266.328318      0.798354       93717   \n",
       "3  45928       286.540559       208.760042      0.684989       47336   \n",
       "4  79408       352.190770       290.827533      0.564011       81463   \n",
       "\n",
       "     Extent  Perimeter    Class  \n",
       "0  0.758651   1184.040  Kecimen  \n",
       "1  0.684130   1121.786  Kecimen  \n",
       "2  0.637613   1208.575  Kecimen  \n",
       "3  0.699599    844.162  Kecimen  \n",
       "4  0.792772   1073.251  Kecimen  "
      ]
     },
     "execution_count": 488,
     "metadata": {},
     "output_type": "execute_result"
    }
   ],
   "source": [
    "#import dataset to data frame using pandas function and define as df_raisin \n",
    "df_raisin = pd.read_csv('Raisin_Dataset.csv')\n",
    "\n",
    "# to displays the first five rows of the dataframe by default\n",
    "df_raisin.head()"
   ]
  },
  {
   "cell_type": "markdown",
   "id": "6289263f",
   "metadata": {},
   "source": [
    "# 3 Data preprocessing"
   ]
  },
  {
   "cell_type": "code",
   "execution_count": 489,
   "id": "5f808365",
   "metadata": {},
   "outputs": [],
   "source": [
    "# replace category value in the form of strings to numerical \n",
    "df_raisin['Class'].replace(['Kecimen', 'Besni'],\n",
    "                        [0, 1], inplace=True)"
   ]
  },
  {
   "cell_type": "code",
   "execution_count": 490,
   "id": "9654f90c",
   "metadata": {},
   "outputs": [
    {
     "data": {
      "text/html": [
       "<div>\n",
       "<style scoped>\n",
       "    .dataframe tbody tr th:only-of-type {\n",
       "        vertical-align: middle;\n",
       "    }\n",
       "\n",
       "    .dataframe tbody tr th {\n",
       "        vertical-align: top;\n",
       "    }\n",
       "\n",
       "    .dataframe thead th {\n",
       "        text-align: right;\n",
       "    }\n",
       "</style>\n",
       "<table border=\"1\" class=\"dataframe\">\n",
       "  <thead>\n",
       "    <tr style=\"text-align: right;\">\n",
       "      <th></th>\n",
       "      <th>Area</th>\n",
       "      <th>MajorAxisLength</th>\n",
       "      <th>MinorAxisLength</th>\n",
       "      <th>Eccentricity</th>\n",
       "      <th>ConvexArea</th>\n",
       "      <th>Extent</th>\n",
       "      <th>Perimeter</th>\n",
       "      <th>Class</th>\n",
       "    </tr>\n",
       "  </thead>\n",
       "  <tbody>\n",
       "    <tr>\n",
       "      <th>0</th>\n",
       "      <td>87524</td>\n",
       "      <td>442.246011</td>\n",
       "      <td>253.291155</td>\n",
       "      <td>0.819738</td>\n",
       "      <td>90546</td>\n",
       "      <td>0.758651</td>\n",
       "      <td>1184.040</td>\n",
       "      <td>0</td>\n",
       "    </tr>\n",
       "    <tr>\n",
       "      <th>1</th>\n",
       "      <td>75166</td>\n",
       "      <td>406.690687</td>\n",
       "      <td>243.032436</td>\n",
       "      <td>0.801805</td>\n",
       "      <td>78789</td>\n",
       "      <td>0.684130</td>\n",
       "      <td>1121.786</td>\n",
       "      <td>0</td>\n",
       "    </tr>\n",
       "    <tr>\n",
       "      <th>2</th>\n",
       "      <td>90856</td>\n",
       "      <td>442.267048</td>\n",
       "      <td>266.328318</td>\n",
       "      <td>0.798354</td>\n",
       "      <td>93717</td>\n",
       "      <td>0.637613</td>\n",
       "      <td>1208.575</td>\n",
       "      <td>0</td>\n",
       "    </tr>\n",
       "    <tr>\n",
       "      <th>3</th>\n",
       "      <td>45928</td>\n",
       "      <td>286.540559</td>\n",
       "      <td>208.760042</td>\n",
       "      <td>0.684989</td>\n",
       "      <td>47336</td>\n",
       "      <td>0.699599</td>\n",
       "      <td>844.162</td>\n",
       "      <td>0</td>\n",
       "    </tr>\n",
       "    <tr>\n",
       "      <th>4</th>\n",
       "      <td>79408</td>\n",
       "      <td>352.190770</td>\n",
       "      <td>290.827533</td>\n",
       "      <td>0.564011</td>\n",
       "      <td>81463</td>\n",
       "      <td>0.792772</td>\n",
       "      <td>1073.251</td>\n",
       "      <td>0</td>\n",
       "    </tr>\n",
       "  </tbody>\n",
       "</table>\n",
       "</div>"
      ],
      "text/plain": [
       "    Area  MajorAxisLength  MinorAxisLength  Eccentricity  ConvexArea  \\\n",
       "0  87524       442.246011       253.291155      0.819738       90546   \n",
       "1  75166       406.690687       243.032436      0.801805       78789   \n",
       "2  90856       442.267048       266.328318      0.798354       93717   \n",
       "3  45928       286.540559       208.760042      0.684989       47336   \n",
       "4  79408       352.190770       290.827533      0.564011       81463   \n",
       "\n",
       "     Extent  Perimeter  Class  \n",
       "0  0.758651   1184.040      0  \n",
       "1  0.684130   1121.786      0  \n",
       "2  0.637613   1208.575      0  \n",
       "3  0.699599    844.162      0  \n",
       "4  0.792772   1073.251      0  "
      ]
     },
     "execution_count": 490,
     "metadata": {},
     "output_type": "execute_result"
    }
   ],
   "source": [
    "df_raisin.head()"
   ]
  },
  {
   "cell_type": "code",
   "execution_count": 491,
   "id": "4a649424",
   "metadata": {},
   "outputs": [],
   "source": [
    "# split dataset in features and target variable\n",
    "\n",
    "X = df_raisin.drop(['Class'],axis=1).values  # features variable\n",
    "y = df_raisin['Class'].values                # target variable\n",
    "\n",
    "# split dataset into training set and test set using train_test_spit func\n",
    "X_train, X_test, y_train, y_test = train_test_split(X, y, test_size = 0.3,random_state = 100)"
   ]
  },
  {
   "cell_type": "code",
   "execution_count": 513,
   "id": "b9583601",
   "metadata": {
    "scrolled": true
   },
   "outputs": [
    {
     "data": {
      "text/plain": [
       "Area               0\n",
       "MajorAxisLength    0\n",
       "MinorAxisLength    0\n",
       "Eccentricity       0\n",
       "ConvexArea         0\n",
       "Extent             0\n",
       "Perimeter          0\n",
       "Class              0\n",
       "dtype: int64"
      ]
     },
     "execution_count": 513,
     "metadata": {},
     "output_type": "execute_result"
    }
   ],
   "source": [
    "# check missing value \n",
    "\n",
    "df_raisin.isna().sum()"
   ]
  },
  {
   "cell_type": "markdown",
   "id": "05f3c48c",
   "metadata": {},
   "source": [
    "# 4. Performing Decision Tree using scikit learn"
   ]
  },
  {
   "cell_type": "code",
   "execution_count": 587,
   "id": "39972978",
   "metadata": {
    "scrolled": true
   },
   "outputs": [],
   "source": [
    "# import classifier decision tree algorithm \n",
    "from sklearn.tree import DecisionTreeClassifier\n",
    "\n",
    "# create Decision Tree classifier object\n",
    "clf = DecisionTreeClassifier()\n",
    "\n",
    "# train model using Decision Tree Classifier\n",
    "clf = clf.fit(X_train,y_train)\n",
    "\n",
    "# make predictions on the test data\n",
    "y_pred = clf.predict(X_test)"
   ]
  },
  {
   "cell_type": "code",
   "execution_count": 588,
   "id": "ef7a4a61",
   "metadata": {},
   "outputs": [
    {
     "name": "stdout",
     "output_type": "stream",
     "text": [
      "              precision    recall  f1-score   support\n",
      "\n",
      "           0       0.86      0.71      0.78       143\n",
      "           1       0.73      0.87      0.79       127\n",
      "\n",
      "    accuracy                           0.79       270\n",
      "   macro avg       0.79      0.79      0.78       270\n",
      "weighted avg       0.80      0.79      0.78       270\n",
      "\n"
     ]
    }
   ],
   "source": [
    "# evaluate the performance of model using classification report\n",
    "\n",
    "print(classification_report(y_test, y_pred))"
   ]
  },
  {
   "cell_type": "code",
   "execution_count": 589,
   "id": "1be8b6dc",
   "metadata": {},
   "outputs": [
    {
     "name": "stdout",
     "output_type": "stream",
     "text": [
      "Accuracy: 0.7851851851851852\n",
      "F1 score: 0.7928571428571429\n",
      "Recall: 0.8740157480314961\n",
      "Precision: 0.7254901960784313\n"
     ]
    }
   ],
   "source": [
    "from sklearn.metrics import precision_score, \\\n",
    "    recall_score, confusion_matrix, classification_report, \\\n",
    "    accuracy_score, f1_score\n",
    "\n",
    "print('Accuracy:', accuracy_score(y_test, y_pred))\n",
    "print('F1 score:', f1_score(y_test, y_pred))\n",
    "print('Recall:', recall_score(y_test, y_pred))\n",
    "print('Precision:', precision_score(y_test, y_pred))"
   ]
  },
  {
   "cell_type": "markdown",
   "id": "273cce03",
   "metadata": {},
   "source": [
    "# K-fold Validation"
   ]
  },
  {
   "cell_type": "code",
   "execution_count": 590,
   "id": "747a8929",
   "metadata": {
    "scrolled": true
   },
   "outputs": [
    {
     "data": {
      "text/plain": [
       "array([0.87301587, 0.82539683, 0.9047619 , 0.80952381, 0.88888889,\n",
       "       0.82539683, 0.80952381, 0.77777778, 0.87301587, 0.88888889])"
      ]
     },
     "execution_count": 590,
     "metadata": {},
     "output_type": "execute_result"
    }
   ],
   "source": [
    "# implement cross validation to improve accuracy performance of model\n",
    "from sklearn.model_selection import cross_val_score\n",
    "\n",
    "# tune the hyperparameter of DecisionTree with max_depth and cv of 10\n",
    "dt_scores = cross_val_score(DecisionTreeClassifier(max_depth=3),X_train, y_train, cv=10)\n",
    "dt_scores"
   ]
  },
  {
   "cell_type": "code",
   "execution_count": 591,
   "id": "9bd8dbf4",
   "metadata": {},
   "outputs": [
    {
     "name": "stdout",
     "output_type": "stream",
     "text": [
      "0.8476190476190476\n"
     ]
    }
   ],
   "source": [
    "# print the mean score of 10-fold validation\n",
    "print(np.mean(dt_scores))"
   ]
  },
  {
   "cell_type": "code",
   "execution_count": 592,
   "id": "4f7f729b",
   "metadata": {},
   "outputs": [],
   "source": [
    "# train the model using classfier with hyperparameter\n",
    "clf_val = DecisionTreeClassifier(max_depth=3)\n",
    "clf_val = clf_val.fit(X_train,y_train)\n",
    "clf_val.score(X_test, y_test)\n",
    "y_prediction = clf_val.predict(X_test)"
   ]
  },
  {
   "cell_type": "code",
   "execution_count": 593,
   "id": "0d76b0cf",
   "metadata": {
    "scrolled": true
   },
   "outputs": [
    {
     "name": "stdout",
     "output_type": "stream",
     "text": [
      "              precision    recall  f1-score   support\n",
      "\n",
      "           0       0.90      0.86      0.88       143\n",
      "           1       0.85      0.89      0.87       127\n",
      "\n",
      "    accuracy                           0.87       270\n",
      "   macro avg       0.87      0.87      0.87       270\n",
      "weighted avg       0.88      0.87      0.87       270\n",
      "\n"
     ]
    }
   ],
   "source": [
    "# evaluate the performance of model using classification report\n",
    "print(classification_report(y_test, y_prediction))"
   ]
  },
  {
   "cell_type": "code",
   "execution_count": 594,
   "id": "eaf70351",
   "metadata": {},
   "outputs": [
    {
     "name": "stdout",
     "output_type": "stream",
     "text": [
      "[[123  20]\n",
      " [ 14 113]]\n"
     ]
    }
   ],
   "source": [
    "# print confusion matrix\n",
    "print(confusion_matrix(y_test, y_prediction))"
   ]
  },
  {
   "cell_type": "code",
   "execution_count": 595,
   "id": "a58609f0",
   "metadata": {},
   "outputs": [
    {
     "name": "stdout",
     "output_type": "stream",
     "text": [
      "Accuracy: 0.8740740740740741\n",
      "F1 score: 0.8692307692307691\n",
      "Recall: 0.889763779527559\n",
      "Precision: 0.849624060150376\n"
     ]
    }
   ],
   "source": [
    "print('Accuracy:', accuracy_score(y_test, y_prediction))\n",
    "print('F1 score:', f1_score(y_test, y_prediction))\n",
    "print('Recall:', recall_score(y_test, y_prediction))\n",
    "print('Precision:', precision_score(y_test, y_prediction))"
   ]
  },
  {
   "cell_type": "code",
   "execution_count": 557,
   "id": "8f3b633c",
   "metadata": {},
   "outputs": [
    {
     "data": {
      "image/png": "[encoded data removed]",
      "text/plain": [
       "<Figure size 402.375x360 with 1 Axes>"
      ]
     },
     "metadata": {
      "needs_background": "light"
     },
     "output_type": "display_data"
    }
   ],
   "source": [
    "import seaborn as sns\n",
    "sns.relplot(x='Eccentricity', y='Area', hue='Class', data=df_raisin);"
   ]
  },
  {
   "cell_type": "code",
   "execution_count": null,
   "id": "23967142",
   "metadata": {},
   "outputs": [],
   "source": []
  },
  {
   "cell_type": "code",
   "execution_count": null,
   "id": "ba7e0388",
   "metadata": {},
   "outputs": [],
   "source": []
  },
  {
   "cell_type": "markdown",
   "id": "43bc87bf",
   "metadata": {},
   "source": [
    "# 5. Performing kNN using scikit learn"
   ]
  },
  {
   "cell_type": "code",
   "execution_count": 602,
   "id": "4cb1625b",
   "metadata": {},
   "outputs": [],
   "source": [
    "# import classifier kNN algorithm \n",
    "from sklearn.neighbors import KNeighborsClassifier\n",
    "\n",
    "# create kNN classifier object\n",
    "knn = KNeighborsClassifier(n_neighbors = 3) \n",
    "# this examines 3 neighbors when putting i the element into a class\n",
    "\n",
    "# train model using kNN Classifier/ fit the model\n",
    "knn = knn.fit(X_train, y_train)\n",
    "\n",
    "# make predictions on the test data\n",
    "prediction = clf.predict(X_test)"
   ]
  },
  {
   "cell_type": "code",
   "execution_count": 603,
   "id": "d2b32b2e",
   "metadata": {},
   "outputs": [
    {
     "name": "stdout",
     "output_type": "stream",
     "text": [
      "              precision    recall  f1-score   support\n",
      "\n",
      "           0       0.86      0.71      0.78       143\n",
      "           1       0.73      0.87      0.79       127\n",
      "\n",
      "    accuracy                           0.79       270\n",
      "   macro avg       0.79      0.79      0.78       270\n",
      "weighted avg       0.80      0.79      0.78       270\n",
      "\n"
     ]
    }
   ],
   "source": [
    "# evaluate the performance of model using classification report\n",
    "print(classification_report(y_test, prediction))"
   ]
  },
  {
   "cell_type": "code",
   "execution_count": 604,
   "id": "d15bb6e3",
   "metadata": {},
   "outputs": [
    {
     "name": "stdout",
     "output_type": "stream",
     "text": [
      "Accuracy: 0.7851851851851852\n",
      "F1 score: 0.7928571428571429\n",
      "Recall: 0.8740157480314961\n",
      "Precision: 0.7254901960784313\n"
     ]
    }
   ],
   "source": [
    "print('Accuracy:', accuracy_score(y_test, prediction))\n",
    "print('F1 score:', f1_score(y_test, prediction))\n",
    "print('Recall:', recall_score(y_test, prediction))\n",
    "print('Precision:', precision_score(y_test, prediction))"
   ]
  },
  {
   "cell_type": "markdown",
   "id": "e8271243",
   "metadata": {},
   "source": [
    "# K-fold Validation"
   ]
  },
  {
   "cell_type": "code",
   "execution_count": 605,
   "id": "82abb84e",
   "metadata": {},
   "outputs": [
    {
     "data": {
      "text/plain": [
       "array([0.85714286, 0.79365079, 0.88888889, 0.80952381, 0.9047619 ,\n",
       "       0.76190476, 0.77777778, 0.79365079, 0.85714286, 0.82539683])"
      ]
     },
     "execution_count": 605,
     "metadata": {},
     "output_type": "execute_result"
    }
   ],
   "source": [
    "# implement cross validation to improve accuracy performance of model\n",
    "from sklearn.model_selection import cross_val_score\n",
    "\n",
    "# tune the parameter of kNN with n_neighbors, metric and cv of 10\n",
    "knn_scores = cross_val_score(KNeighborsClassifier(n_neighbors = 7, metric='minkowski'),X_train, y_train, cv=10)\n",
    "knn_scores"
   ]
  },
  {
   "cell_type": "code",
   "execution_count": 606,
   "id": "bbb018b1",
   "metadata": {},
   "outputs": [
    {
     "name": "stdout",
     "output_type": "stream",
     "text": [
      "0.8269841269841269\n"
     ]
    }
   ],
   "source": [
    "# print the mean score of 10-fold validation\n",
    "print(np.mean(knn_scores))"
   ]
  },
  {
   "cell_type": "code",
   "execution_count": 607,
   "id": "62c74402",
   "metadata": {},
   "outputs": [],
   "source": [
    "# train the model using classfier with hyperparameter\n",
    "knn_val = KNeighborsClassifier(n_neighbors = 7, metric='minkowski')\n",
    "knn_val = knn_val.fit(X_train,y_train)\n",
    "knn_val.score(X_test, y_test)\n",
    "y_p = knn_val.predict(X_test)"
   ]
  },
  {
   "cell_type": "code",
   "execution_count": 608,
   "id": "a53360ae",
   "metadata": {},
   "outputs": [
    {
     "name": "stdout",
     "output_type": "stream",
     "text": [
      "              precision    recall  f1-score   support\n",
      "\n",
      "           0       0.82      0.87      0.84       143\n",
      "           1       0.84      0.78      0.81       127\n",
      "\n",
      "    accuracy                           0.83       270\n",
      "   macro avg       0.83      0.82      0.82       270\n",
      "weighted avg       0.83      0.83      0.83       270\n",
      "\n"
     ]
    }
   ],
   "source": [
    "# evaluate the performance of model using classification report\n",
    "print(classification_report(y_test, y_p))"
   ]
  },
  {
   "cell_type": "code",
   "execution_count": 609,
   "id": "94a7df45",
   "metadata": {},
   "outputs": [
    {
     "name": "stdout",
     "output_type": "stream",
     "text": [
      "[[124  19]\n",
      " [ 28  99]]\n"
     ]
    }
   ],
   "source": [
    "# print confusion matrix\n",
    "print(confusion_matrix(y_test, y_p))"
   ]
  },
  {
   "cell_type": "code",
   "execution_count": 610,
   "id": "c074b4dc",
   "metadata": {},
   "outputs": [
    {
     "name": "stdout",
     "output_type": "stream",
     "text": [
      "Accuracy: 0.825925925925926\n",
      "F1 score: 0.8081632653061225\n",
      "Recall: 0.7795275590551181\n",
      "Precision: 0.8389830508474576\n"
     ]
    }
   ],
   "source": [
    "print('Accuracy:', accuracy_score(y_test, y_p))\n",
    "print('F1 score:', f1_score(y_test, y_p))\n",
    "print('Recall:', recall_score(y_test, y_p))\n",
    "print('Precision:', precision_score(y_test, y_p))"
   ]
  },
  {
   "cell_type": "code",
   "execution_count": null,
   "id": "c01d7c0e",
   "metadata": {},
   "outputs": [],
   "source": []
  }
 ],
 "metadata": {
  "kernelspec": {
   "display_name": "Python 3 (ipykernel)",
   "language": "python",
   "name": "python3"
  },
  "language_info": {
   "codemirror_mode": {
    "name": "ipython",
    "version": 3
   },
   "file_extension": ".py",
   "mimetype": "text/x-python",
   "name": "python",
   "nbconvert_exporter": "python",
   "pygments_lexer": "ipython3",
   "version": "3.9.7"
  }
 },
 "nbformat": 4,
 "nbformat_minor": 5
}
